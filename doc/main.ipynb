{
 "cells": [
  {
   "cell_type": "code",
   "execution_count": 2,
   "metadata": {},
   "outputs": [],
   "source": [
    "import scipy\n",
    "from scipy import io\n",
    "from glob import glob\n",
    "from scipy import misc\n",
    "import imageio\n",
    "import numpy as np\n",
    "import pandas as pd\n",
    "from skimage import transform,io\n",
    "import os\n",
    "import random\n",
    "import memory_profiler\n",
    "from datetime import datetime\n",
    "from sklearn.decomposition import PCA\n",
    "%load_ext memory_profiler"
   ]
  },
  {
   "cell_type": "code",
   "execution_count": 2,
   "metadata": {
    "scrolled": false
   },
   "outputs": [
    {
     "data": {
      "text/plain": [
       "'C:\\\\Users\\\\lucy\\\\Desktop\\\\proj3'"
      ]
     },
     "execution_count": 2,
     "metadata": {},
     "output_type": "execute_result"
    }
   ],
   "source": [
    "os.chdir('./')\n",
    "os.getcwd()"
   ]
  },
  {
   "cell_type": "code",
   "execution_count": 3,
   "metadata": {},
   "outputs": [],
   "source": [
    "from sys import platform\n",
    "if platform == \"darwin\":\n",
    "   dataset_name = 'images'\n",
    "   path = glob('../data/train_set/%s/*' % (dataset_name))\n",
    "   train_dir = \"../data/train_set/\" # This will be modified for different data sets.\n",
    "elif platform == \"win32\":\n",
    "   dataset_name = 'images'\n",
    "   path = glob('./data/train_set/%s/*' % (dataset_name))\n",
    "   train_dir = \"./data/train_set/\" # This will be modified for different data sets."
   ]
  },
  {
   "cell_type": "markdown",
   "metadata": {},
   "source": [
    "### Step 0 set work directories, extract paths, summarize\n",
    "\n",
    "Provide directories for training images. Training images and Training fiducial points will be in different subfolders. "
   ]
  },
  {
   "cell_type": "code",
   "execution_count": 4,
   "metadata": {},
   "outputs": [],
   "source": [
    "train_image_dir = train_dir + \"images/\"\n",
    "train_pt_dir = train_dir + \"points/\"\n",
    "train_label_path = train_dir +\"label.csv\""
   ]
  },
  {
   "cell_type": "markdown",
   "metadata": {},
   "source": [
    "### Step 1: set up controls for evaluation experiments.\n",
    "\n",
    "In this chunk, we have a set of controls for the evaluation experiments. \n",
    "\n",
    "+ (T/F) cross-validation on the training set\n",
    "+ (number) K, the number of CV folds\n",
    "+ (T/F) process features for training set\n",
    "+ (T/F) run evaluation on an independent test set\n",
    "+ (T/F) process features for test set\n"
   ]
  },
  {
   "cell_type": "code",
   "execution_count": 5,
   "metadata": {},
   "outputs": [],
   "source": [
    "run_cv=True # run cross-validation on the training set\n",
    "K = 5  # number of CV folds\n",
    "run_feature_train=True # process features for training set\n",
    "run_test=True # run evaluation on an independent test set\n",
    "run_feature_test=True # process features for test set"
   ]
  },
  {
   "cell_type": "markdown",
   "metadata": {},
   "source": [
    "Using cross-validation or independent test set evaluation, we compare the performance of models with different specifications."
   ]
  },
  {
   "cell_type": "markdown",
   "metadata": {},
   "source": [
    "### Step 2: import data and train-test split "
   ]
  },
  {
   "cell_type": "code",
   "execution_count": 6,
   "metadata": {},
   "outputs": [],
   "source": [
    "#train-test split\n",
    "\n",
    "info = pd.read_csv(train_label_path)\n",
    "n = len(info)\n",
    "n_train = round(n*(4/5), 0)\n",
    "random.seed(1)\n",
    "train_idx = np.random.choice(info.Index, size=int(n_train), replace=False)\n",
    "test_idx = list(set(info.Index) - set(train_idx))"
   ]
  },
  {
   "cell_type": "markdown",
   "metadata": {},
   "source": [
    "If you choose to extract features from images, such as using Gabor filter, R memory will exhaust all images are read together. The solution is to repeat reading a smaller batch(e.g 100) and process them. "
   ]
  },
  {
   "cell_type": "code",
   "execution_count": 7,
   "metadata": {},
   "outputs": [],
   "source": [
    "dataDir = train_pt_dir\n",
    "fiducial_pt_list = []\n",
    "filelist = []\n",
    "for file in os.listdir(dataDir):\n",
    "    filelist.append(file)\n",
    "filelist.sort()\n",
    "for file in filelist:\n",
    "    fiducial_pt_list.append(scipy.io.loadmat(dataDir+file))"
   ]
  },
  {
   "cell_type": "code",
   "execution_count": 8,
   "metadata": {},
   "outputs": [],
   "source": [
    "l = []\n",
    "for i in range(len(fiducial_pt_list)):\n",
    "    if 'faceCoordinatesUnwarped' in fiducial_pt_list[i].keys():\n",
    "        l.append(fiducial_pt_list[i]['faceCoordinatesUnwarped'])\n",
    "    else:\n",
    "        l.append(fiducial_pt_list[i]['faceCoordinates2'])"
   ]
  },
  {
   "cell_type": "code",
   "execution_count": 9,
   "metadata": {},
   "outputs": [],
   "source": [
    "fiducial_pt_list = l"
   ]
  },
  {
   "cell_type": "code",
   "execution_count": 10,
   "metadata": {},
   "outputs": [],
   "source": [
    "import sklearn.metrics.pairwise\n",
    "def pairwise_dist(vec):\n",
    "    dist  = sklearn.metrics.pairwise_distances(vec, metric='euclidean')\n",
    "    np.fill_diagonal(dist, np.nan)\n",
    "    return dist\n",
    "\n",
    "def feature(fiducial_pt_list,index,info= pd.read_csv(train_label_path)):\n",
    "    pairwise_dist_feature = pairwise_dist(fiducial_pt_list[index]).flatten()\n",
    "    pairwise_dist_feature = pairwise_dist_feature[~np.isnan(pairwise_dist_feature)]\n",
    "    pairwise_dist_feature = np.append(pairwise_dist_feature,info['emotion_idx'][index])\n",
    "    #pairwise_data  = cbind(pairwise_dist_feature, info['emotion_idx'][index])\n",
    "    return pairwise_dist_feature"
   ]
  },
  {
   "cell_type": "code",
   "execution_count": 11,
   "metadata": {},
   "outputs": [],
   "source": [
    "train_idx_1 = [x-1 for x in train_idx]\n",
    "test_idx_1 = [x-1 for x in test_idx]"
   ]
  },
  {
   "cell_type": "code",
   "execution_count": 12,
   "metadata": {},
   "outputs": [],
   "source": [
    "train_idx = [x-1 for x in train_idx]\n",
    "dat_train = pd.DataFrame(np.zeros((2000, 6007)))\n",
    "dat_test = pd.DataFrame(np.zeros((500, 6007)))\n",
    "for i in range(len(train_idx_1)):\n",
    "    dat_train.iloc[i,:] = np.round(feature(fiducial_pt_list, train_idx_1[i]).flatten(), 0)\n",
    "\n",
    "for i in range(len(test_idx)):\n",
    "    dat_test.iloc[i,:] = np.round(feature(fiducial_pt_list, test_idx_1[i]).flatten(), 0)"
   ]
  },
  {
   "cell_type": "code",
   "execution_count": 13,
   "metadata": {},
   "outputs": [
    {
     "name": "stdout",
     "output_type": "stream",
     "text": [
      "[   0    1    2 ... 6004 6005 6006]\n",
      "(500, 6007)\n"
     ]
    }
   ],
   "source": [
    "dat_train = dat_train.astype(int)\n",
    "dat_test = dat_test.astype(int)\n",
    "print(dat_train.columns.values)\n",
    "print(dat_test.shape)"
   ]
  },
  {
   "cell_type": "code",
   "execution_count": 14,
   "metadata": {},
   "outputs": [
    {
     "name": "stdout",
     "output_type": "stream",
     "text": [
      "(2000, 6006)\n",
      "(500, 6006)\n",
      "0       24\n",
      "1       36\n",
      "2       35\n",
      "3       28\n",
      "4       41\n",
      "        ..\n",
      "1995    30\n",
      "1996    34\n",
      "1997    48\n",
      "1998    28\n",
      "1999    39\n",
      "Name: 0, Length: 2000, dtype: int32\n",
      "0      46\n",
      "1      37\n",
      "2      38\n",
      "3      28\n",
      "4      35\n",
      "       ..\n",
      "495    32\n",
      "496    35\n",
      "497    36\n",
      "498    31\n",
      "499    31\n",
      "Name: 0, Length: 500, dtype: int32\n",
      "0        5\n",
      "1       19\n",
      "2       16\n",
      "3       10\n",
      "4       11\n",
      "        ..\n",
      "1995     7\n",
      "1996    16\n",
      "1997     9\n",
      "1998     5\n",
      "1999     1\n",
      "Name: 6006, Length: 2000, dtype: int32\n",
      "0       0\n",
      "1      18\n",
      "2       0\n",
      "3      18\n",
      "4      18\n",
      "       ..\n",
      "495    17\n",
      "496    17\n",
      "497    17\n",
      "498    17\n",
      "499    17\n",
      "Name: 6006, Length: 500, dtype: int32\n"
     ]
    }
   ],
   "source": [
    "#get x,y\n",
    "train_x = dat_train.drop(6006, axis=1)\n",
    "test_x  = dat_test.drop(6006, axis=1)\n",
    "print(train_x.shape)\n",
    "print(test_x.shape)\n",
    "print(train_x[0])\n",
    "print(test_x[0])\n",
    "train_y = dat_train[6006]\n",
    "train_y = train_y -1\n",
    "test_y = dat_test[6006]\n",
    "test_y = test_y -1\n",
    "print(train_y)\n",
    "print(test_y)"
   ]
  },
  {
   "cell_type": "markdown",
   "metadata": {},
   "source": [
    "### Step3: Baseline"
   ]
  },
  {
   "cell_type": "code",
   "execution_count": 15,
   "metadata": {},
   "outputs": [
    {
     "name": "stdout",
     "output_type": "stream",
     "text": [
      "peak memory: 270.66 MiB, increment: 0.11 MiB\n",
      "peak memory: 274.60 MiB, increment: 0.00 MiB\n",
      "fit time: 0:00:13.279444\n",
      "Accuracy of the GBM on test set: 0.336\n",
      "              precision    recall  f1-score   support\n",
      "\n",
      "           0       0.62      0.83      0.71        89\n",
      "           1       0.70      0.78      0.74       102\n",
      "           2       0.53      0.73      0.61       108\n",
      "           3       0.72      0.68      0.70        90\n",
      "           4       0.75      0.61      0.67        93\n",
      "           5       0.63      0.67      0.65        79\n",
      "           6       0.64      0.53      0.58        89\n",
      "           7       0.75      0.81      0.78        99\n",
      "           8       0.62      0.65      0.63        88\n",
      "           9       0.68      0.52      0.59        84\n",
      "          10       0.73      0.42      0.53        96\n",
      "          11       0.56      0.70      0.62        93\n",
      "          12       0.41      0.53      0.46        83\n",
      "          13       0.63      0.70      0.66       100\n",
      "          14       0.48      0.59      0.53        76\n",
      "          15       0.71      0.70      0.71        93\n",
      "          16       0.53      0.65      0.59        95\n",
      "          17       0.73      0.51      0.60        78\n",
      "          18       0.60      0.40      0.48        87\n",
      "          19       0.42      0.48      0.45       101\n",
      "          20       0.55      0.62      0.58        89\n",
      "          21       0.81      0.19      0.31        88\n",
      "\n",
      "    accuracy                           0.61      2000\n",
      "   macro avg       0.63      0.60      0.60      2000\n",
      "weighted avg       0.63      0.61      0.60      2000\n",
      "\n",
      "              precision    recall  f1-score   support\n",
      "\n",
      "           0       0.34      0.61      0.44        23\n",
      "           1       0.25      0.42      0.31        12\n",
      "           2       0.24      0.37      0.29        27\n",
      "           3       0.50      0.29      0.36        28\n",
      "           4       0.33      0.44      0.38        16\n",
      "           5       0.36      0.36      0.36        25\n",
      "           6       0.42      0.40      0.41        25\n",
      "           7       0.54      0.67      0.60        21\n",
      "           8       0.39      0.43      0.41        21\n",
      "           9       0.50      0.39      0.44        23\n",
      "          10       0.64      0.33      0.44        27\n",
      "          11       0.26      0.32      0.29        19\n",
      "          12       0.23      0.29      0.25        24\n",
      "          13       0.37      0.45      0.41        22\n",
      "          14       0.17      0.26      0.20        19\n",
      "          15       0.45      0.45      0.45        20\n",
      "          16       0.52      0.47      0.49        32\n",
      "          17       0.46      0.21      0.29        28\n",
      "          18       0.12      0.04      0.06        24\n",
      "          19       0.10      0.14      0.12        14\n",
      "          20       0.13      0.11      0.12        28\n",
      "          21       0.00      0.00      0.00        22\n",
      "\n",
      "    accuracy                           0.34       500\n",
      "   macro avg       0.33      0.34      0.32       500\n",
      "weighted avg       0.35      0.34      0.33       500\n",
      "\n",
      "predict time 0:00:10.949448\n"
     ]
    }
   ],
   "source": [
    "#gbm baseline\n",
    "start=datetime.now()\n",
    "import matplotlib.pyplot as plt\n",
    "from sklearn.ensemble import GradientBoostingClassifier\n",
    "from sklearn.metrics import classification_report\n",
    "%memit\n",
    "baseline = GradientBoostingClassifier(learning_rate=0.05, n_estimators=22,max_depth=2, min_samples_split=2, min_samples_leaf=1, subsample=1,max_features='sqrt', random_state=10)\n",
    "baseline.fit(train_x,train_y)\n",
    "%memit\n",
    "print('fit time:',datetime.now()-start)\n",
    "start=datetime.now()\n",
    "predictors=list(train_x)\n",
    "feat_imp = pd.Series(baseline.feature_importances_, predictors).sort_values(ascending=False)\n",
    "feat_imp.plot(kind='bar', title='Importance of Features')\n",
    "plt.ylabel('Feature Importance Score')\n",
    "print('Accuracy of the GBM on test set: {:.3f}'.format(baseline.score(test_x, test_y)))\n",
    "pred=baseline.predict(train_x)\n",
    "print(classification_report(train_y, pred))\n",
    "pred=baseline.predict(test_x)\n",
    "print(classification_report(test_y, pred))\n",
    "print('predict time',datetime.now()-start)"
   ]
  },
  {
   "cell_type": "markdown",
   "metadata": {},
   "source": [
    "### Step4: Other Machine Learning Models"
   ]
  },
  {
   "cell_type": "code",
   "execution_count": 16,
   "metadata": {},
   "outputs": [
    {
     "name": "stdout",
     "output_type": "stream",
     "text": [
      "predict time: 0:00:05.737332\n",
      "0.726 0.444\n"
     ]
    }
   ],
   "source": [
    "#xgboost\n",
    "import xgboost\n",
    "from xgboost import XGBClassifier\n",
    "xgb = XGBClassifier(\n",
    "   n_estimators=30,\n",
    "   min_child_weight = 1,\n",
    "   gamma = 0,\n",
    "   subsample = 0.8,\n",
    "   max_depth=2,\n",
    "   colsample_bytree = 0.8,\n",
    "   reg_alpha = 0.005)\n",
    "xgboost = xgb.fit(train_x,train_y)\n",
    "\n",
    "start=datetime.now()\n",
    "xgboost_pred_train = xgboost.predict(train_x)\n",
    "xgboost_pred_test = xgboost.predict(test_x)\n",
    "print('predict time:',datetime.now()-start)\n",
    "xg_train_accuracy = (xgboost_pred_train==train_y).sum()/2000\n",
    "xg_test_accuracy = (xgboost_pred_test==test_y).sum()/500\n",
    "print(xg_train_accuracy,xg_test_accuracy)"
   ]
  },
  {
   "cell_type": "code",
   "execution_count": 17,
   "metadata": {},
   "outputs": [
    {
     "name": "stdout",
     "output_type": "stream",
     "text": [
      "              precision    recall  f1-score   support\n",
      "\n",
      "           0       0.83      0.84      0.84        89\n",
      "           1       0.79      0.91      0.85       102\n",
      "           2       0.68      0.77      0.72       108\n",
      "           3       0.77      0.80      0.78        90\n",
      "           4       0.85      0.84      0.84        93\n",
      "           5       0.73      0.77      0.75        79\n",
      "           6       0.78      0.56      0.65        89\n",
      "           7       0.85      0.84      0.84        99\n",
      "           8       0.85      0.83      0.84        88\n",
      "           9       0.71      0.63      0.67        84\n",
      "          10       0.80      0.61      0.69        96\n",
      "          11       0.63      0.74      0.68        93\n",
      "          12       0.66      0.52      0.58        83\n",
      "          13       0.69      0.84      0.76       100\n",
      "          14       0.69      0.72      0.71        76\n",
      "          15       0.73      0.88      0.80        93\n",
      "          16       0.62      0.77      0.69        95\n",
      "          17       0.71      0.58      0.64        78\n",
      "          18       0.68      0.60      0.63        87\n",
      "          19       0.61      0.66      0.64       101\n",
      "          20       0.61      0.69      0.65        89\n",
      "          21       0.84      0.47      0.60        88\n",
      "\n",
      "    accuracy                           0.73      2000\n",
      "   macro avg       0.73      0.72      0.72      2000\n",
      "weighted avg       0.73      0.73      0.72      2000\n",
      "\n",
      "              precision    recall  f1-score   support\n",
      "\n",
      "           0       0.65      0.65      0.65        23\n",
      "           1       0.40      0.67      0.50        12\n",
      "           2       0.45      0.67      0.54        27\n",
      "           3       0.45      0.46      0.46        28\n",
      "           4       0.45      0.62      0.53        16\n",
      "           5       0.48      0.44      0.46        25\n",
      "           6       0.56      0.40      0.47        25\n",
      "           7       0.61      0.67      0.64        21\n",
      "           8       0.63      0.57      0.60        21\n",
      "           9       0.45      0.22      0.29        23\n",
      "          10       0.43      0.33      0.38        27\n",
      "          11       0.27      0.47      0.35        19\n",
      "          12       0.27      0.17      0.21        24\n",
      "          13       0.33      0.55      0.41        22\n",
      "          14       0.29      0.32      0.30        19\n",
      "          15       0.63      0.85      0.72        20\n",
      "          16       0.50      0.50      0.50        32\n",
      "          17       0.59      0.36      0.44        28\n",
      "          18       0.47      0.33      0.39        24\n",
      "          19       0.22      0.36      0.27        14\n",
      "          20       0.33      0.29      0.31        28\n",
      "          21       0.33      0.09      0.14        22\n",
      "\n",
      "    accuracy                           0.44       500\n",
      "   macro avg       0.45      0.45      0.43       500\n",
      "weighted avg       0.45      0.44      0.43       500\n",
      "\n"
     ]
    }
   ],
   "source": [
    "#classification report in xgb\n",
    "from sklearn.metrics import classification_report\n",
    "print(classification_report(train_y, xgboost_pred_train))\n",
    "print(classification_report(test_y , xgboost_pred_test))"
   ]
  },
  {
   "cell_type": "code",
   "execution_count": 18,
   "metadata": {},
   "outputs": [
    {
     "name": "stdout",
     "output_type": "stream",
     "text": [
      "12\n",
      "(2000, 12)\n",
      "(500, 12)\n"
     ]
    }
   ],
   "source": [
    "#PCA\n",
    "pca= PCA(random_state = 42)\n",
    "pca.fit(train_x)\n",
    "k=0\n",
    "total= sum(pca.explained_variance_)\n",
    "current_sum=0\n",
    "while current_sum/total < 0.94: #we want the reduced features explain 94% of the original data\n",
    "    current_sum += pca.explained_variance_[k]\n",
    "    k+=1\n",
    "print(k)\n",
    "pca1=PCA(n_components=k,whiten=True)\n",
    "train_transform_data= pca1.fit_transform(train_x)\n",
    "print(train_transform_data.shape)\n",
    "test_transform_data=pca1.transform(test_x)\n",
    "print(test_transform_data.shape)"
   ]
  },
  {
   "cell_type": "code",
   "execution_count": 19,
   "metadata": {},
   "outputs": [
    {
     "name": "stderr",
     "output_type": "stream",
     "text": [
      "C:\\Users\\lucy\\Anaconda\\lib\\site-packages\\sklearn\\model_selection\\_search.py:814: DeprecationWarning: The default of the `iid` parameter will change from True to False in version 0.22 and will be removed in 0.24. This will change numeric results when test-set sizes are unequal.\n",
      "  DeprecationWarning)\n"
     ]
    },
    {
     "name": "stdout",
     "output_type": "stream",
     "text": [
      "Best score for data: 0.3085\n",
      "Best Max Depth: 2\n",
      "Best N.estimators: 181\n",
      "Best Learning Rate: 0.1\n"
     ]
    }
   ],
   "source": [
    "#Cross Validation Xgboost\n",
    "from sklearn.model_selection import GridSearchCV\n",
    "\n",
    "estimator = XGBClassifier(\n",
    "   objective='multi:softprob',\n",
    "   seed=24\n",
    ")\n",
    "parameters = {\n",
    "   'max_depth': range (1, 5, 1),\n",
    "   'n_estimators': range(1, 200, 20),\n",
    "   'learning_rate': [0.1, 0.01, 0.05]\n",
    "}\n",
    "\n",
    "\n",
    "# Create a classifier object with the classifier and parameter candidates\n",
    "clf1 = GridSearchCV(estimator=estimator, cv =5, param_grid=parameters, n_jobs=-1)\n",
    "\n",
    "# Train the classifier on data1's feature and target data\n",
    "clf1.fit(train_transform_data, train_y)\n",
    "\n",
    "# View the accuracy score\n",
    "print('Best score for data:', clf1.best_score_) \n",
    "\n",
    "# View the best parameters for the model found using grid search\n",
    "print('Best Max Depth:',clf1.best_estimator_.max_depth) \n",
    "print('Best N.estimators:',clf1.best_estimator_.n_estimators)\n",
    "print('Best Learning Rate:',clf1.best_estimator_.learning_rate)"
   ]
  },
  {
   "cell_type": "code",
   "execution_count": 20,
   "metadata": {},
   "outputs": [
    {
     "name": "stdout",
     "output_type": "stream",
     "text": [
      "predict time: 0:00:07.833002\n",
      "0.99 0.486\n"
     ]
    }
   ],
   "source": [
    "xgb_best = XGBClassifier(\n",
    "   n_estimators=181,\n",
    "   min_child_weight = 1,\n",
    "   gamma = 0,\n",
    "   subsample = 0.8,\n",
    "   max_depth=2,\n",
    "   colsample_bytree = 0.8,\n",
    "    learning_rate=0.1,\n",
    "   reg_alpha = 0.005)\n",
    "xgboost_best = xgb_best.fit(train_x,train_y)\n",
    "\n",
    "\n",
    "start=datetime.now()\n",
    "xgboost_pred_train = xgboost_best.predict(train_x)\n",
    "xgboost_pred_test = xgboost_best.predict(test_x)\n",
    "print('predict time:',datetime.now()-start)\n",
    "xg_train_accuracy = (xgboost_pred_train==train_y).sum()/2000\n",
    "xg_test_accuracy = (xgboost_pred_test==test_y).sum()/500\n",
    "print(xg_train_accuracy,xg_test_accuracy)"
   ]
  },
  {
   "cell_type": "code",
   "execution_count": 21,
   "metadata": {},
   "outputs": [
    {
     "name": "stdout",
     "output_type": "stream",
     "text": [
      "predict time: 0:00:06.375714\n",
      "Training Accuracy: 0.236\n",
      "Testing Accuracy: 0.206\n"
     ]
    }
   ],
   "source": [
    "#Naive Bayes\n",
    "from sklearn.naive_bayes import GaussianNB\n",
    "gnb = GaussianNB()\n",
    "gnb.fit(train_x, train_y)\n",
    "\n",
    "start=datetime.now()\n",
    "y_pred = gnb.predict(test_x)\n",
    "y_pred1 = gnb.predict(train_x)\n",
    "print('predict time:',datetime.now()-start)\n",
    "from sklearn import metrics\n",
    "# Model Accuracy, how often is the classifier correct?\n",
    "print(\"Training Accuracy:\",metrics.accuracy_score(train_y, y_pred1))\n",
    "print(\"Testing Accuracy:\",metrics.accuracy_score(test_y, y_pred))"
   ]
  },
  {
   "cell_type": "code",
   "execution_count": 22,
   "metadata": {},
   "outputs": [],
   "source": [
    "#svm\n",
    "import sklearn.svm\n",
    "from sklearn.svm import SVC\n",
    "svc = SVC(kernel= 'linear', random_state = 100, C = 0.5,gamma='auto')\n",
    "svm=svc.fit(train_x,train_y)"
   ]
  },
  {
   "cell_type": "code",
   "execution_count": 23,
   "metadata": {},
   "outputs": [
    {
     "name": "stdout",
     "output_type": "stream",
     "text": [
      "1.0 0.512\n",
      "predict time: 0:00:34.293074\n"
     ]
    }
   ],
   "source": [
    "start=datetime.now()\n",
    "svm_pred_train = svm.predict(train_x)\n",
    "svm_pred_test =  svm.predict(test_x)\n",
    "svm_train_accuracy=(svm_pred_train==train_y).sum()/2000\n",
    "svm_test_accuracy=(svm_pred_test==test_y).sum()/500\n",
    "print(svm_train_accuracy,svm_test_accuracy)\n",
    "print('predict time:',datetime.now()-start)"
   ]
  },
  {
   "cell_type": "code",
   "execution_count": 24,
   "metadata": {},
   "outputs": [
    {
     "name": "stdout",
     "output_type": "stream",
     "text": [
      "12\n",
      "(2000, 12)\n",
      "(500, 12)\n"
     ]
    }
   ],
   "source": [
    "#PCA\n",
    "pca= PCA(random_state = 42)\n",
    "pca.fit(train_x)\n",
    "k=0\n",
    "total= sum(pca.explained_variance_)\n",
    "current_sum=0\n",
    "while current_sum/total < 0.94: #we want the reduced features explain 94% of the original data\n",
    "    current_sum += pca.explained_variance_[k]\n",
    "    k+=1\n",
    "print(k)\n",
    "pca1=PCA(n_components=k,whiten=True)\n",
    "train_transform_data= pca1.fit_transform(train_x)\n",
    "print(train_transform_data.shape)\n",
    "test_transform_data=pca1.transform(test_x)\n",
    "print(test_transform_data.shape)"
   ]
  },
  {
   "cell_type": "code",
   "execution_count": 25,
   "metadata": {},
   "outputs": [
    {
     "name": "stdout",
     "output_type": "stream",
     "text": [
      "0.3925\n",
      "0.32\n"
     ]
    }
   ],
   "source": [
    "#svm using PCA\n",
    "svc_pca1 = SVC(kernel = 'linear', C = 0.01, random_state = 100)\n",
    "svc_pca1 = svc_pca1.fit(train_transform_data, train_y)\n",
    "pred_svc_pca1 = svc_pca1.predict(test_transform_data)\n",
    "pred_svc_pca1_t = svc_pca1.predict(train_transform_data)\n",
    "print((train_y==pred_svc_pca1_t).sum()/2000)\n",
    "print((test_y==pred_svc_pca1).sum()/500)"
   ]
  },
  {
   "cell_type": "markdown",
   "metadata": {},
   "source": [
    "Try to find the best parameters using cross validation."
   ]
  },
  {
   "cell_type": "code",
   "execution_count": 26,
   "metadata": {},
   "outputs": [
    {
     "name": "stderr",
     "output_type": "stream",
     "text": [
      "C:\\Users\\lucy\\Anaconda\\lib\\site-packages\\sklearn\\model_selection\\_search.py:814: DeprecationWarning: The default of the `iid` parameter will change from True to False in version 0.22 and will be removed in 0.24. This will change numeric results when test-set sizes are unequal.\n",
      "  DeprecationWarning)\n"
     ]
    },
    {
     "name": "stdout",
     "output_type": "stream",
     "text": [
      "Best score for data: 0.3715\n",
      "Best C: 1\n",
      "Best Kernel: linear\n",
      "Best Gamma: auto_deprecated\n"
     ]
    }
   ],
   "source": [
    "#Cross validation svm\n",
    "from sklearn.model_selection import GridSearchCV\n",
    "parameter_candidates = [\n",
    "  {'C': [0.001, 0.01, 1, 10], 'kernel': ['linear']},\n",
    "  {'C': [0.001, 0.01, 1, 10], 'gamma': [0.1, 1, 10, 100], 'kernel': ['rbf']},\n",
    "  {'C': [0.001, 0.01, 1, 10], 'gamma': [0.1, 1, 10, 100], 'kernel': ['poly']},\n",
    "]\n",
    "\n",
    "# Create a classifier object with the classifier and parameter candidates\n",
    "clf2 = GridSearchCV(estimator=SVC(), cv =10, param_grid=parameter_candidates, n_jobs=-1)\n",
    "\n",
    "# Train the classifier on data1's feature and target data\n",
    "clf2.fit(train_transform_data, train_y)\n",
    "\n",
    "# View the accuracy score\n",
    "print('Best score for data:', clf2.best_score_) \n",
    "\n",
    "# View the best parameters for the model found using grid search\n",
    "print('Best C:',clf2.best_estimator_.C) \n",
    "print('Best Kernel:',clf2.best_estimator_.kernel)\n",
    "print('Best Gamma:',clf2.best_estimator_.gamma)"
   ]
  },
  {
   "cell_type": "code",
   "execution_count": 27,
   "metadata": {},
   "outputs": [
    {
     "name": "stdout",
     "output_type": "stream",
     "text": [
      "0.451\n",
      "0.36\n"
     ]
    }
   ],
   "source": [
    "svc_pca_test = SVC(kernel = 'linear', C = 1, random_state = 100)\n",
    "svc_pca_test = svc_pca_test.fit(train_transform_data, train_y)\n",
    "pred_svc_test = svc_pca_test.predict(test_transform_data)\n",
    "pred_svc_test1 = svc_pca_test.predict(train_transform_data)\n",
    "print((train_y==pred_svc_test1).sum()/2000)\n",
    "print((test_y==pred_svc_test).sum()/500)"
   ]
  },
  {
   "cell_type": "code",
   "execution_count": 28,
   "metadata": {},
   "outputs": [],
   "source": [
    "# A Simple Confusion Matrix Implementation\n",
    "from sklearn.metrics import confusion_matrix\n",
    "import matplotlib.pyplot as plt\n",
    "def confusionmatrix(actual, predicted, normalize = False):\n",
    "    unique = sorted(set(actual))\n",
    "    matrix = [[0 for _ in unique] for _ in unique]\n",
    "    imap   = {key: i for i, key in enumerate(unique)}\n",
    "    # Generate Confusion Matrix\n",
    "    for p, a in zip(predicted, actual):\n",
    "        matrix[imap[p]][imap[a]] += 1\n",
    "    # Matrix Normalization\n",
    "    if normalize:\n",
    "        sigma = sum([sum(matrix[imap[i]]) for i in unique])\n",
    "        matrix = [row for row in map(lambda i: list(map(lambda j: j / sigma, i)), matrix)]\n",
    "    return matrix"
   ]
  },
  {
   "cell_type": "code",
   "execution_count": 29,
   "metadata": {},
   "outputs": [
    {
     "name": "stdout",
     "output_type": "stream",
     "text": [
      "AxesSubplot(0.125,0.125;0.62x0.755)\n"
     ]
    },
    {
     "data": {
      "image/png": "[encoded data removed]",
      "text/plain": [
       "<Figure size 936x576 with 2 Axes>"
      ]
     },
     "metadata": {
      "needs_background": "light"
     },
     "output_type": "display_data"
    }
   ],
   "source": [
    "con = confusionmatrix(test_y+1, pred_svc_test+1, normalize = False)\n",
    "import seaborn as sns\n",
    "df_cm = pd.DataFrame(con, index = [i for i in range(1,23)],\n",
    "                  columns = [i for i in range(1,23)])\n",
    "plt.figure(figsize = (13,8))\n",
    "print(sns.heatmap(df_cm, annot=True))"
   ]
  },
  {
   "cell_type": "markdown",
   "metadata": {},
   "source": [
    "### Step5: Deep Learning Model"
   ]
  },
  {
   "cell_type": "code",
   "execution_count": 30,
   "metadata": {},
   "outputs": [
    {
     "name": "stdout",
     "output_type": "stream",
     "text": [
      "38\n"
     ]
    },
    {
     "name": "stderr",
     "output_type": "stream",
     "text": [
      "Using TensorFlow backend.\n"
     ]
    }
   ],
   "source": [
    "#CNN Conv1D using PCA\n",
    "k2=0\n",
    "pca= PCA(random_state = 42)\n",
    "pca.fit(train_x)\n",
    "total= sum(pca.explained_variance_)\n",
    "current_sum=0\n",
    "while current_sum/total < 0.985: #we want the reduced features explain 98.5% of the original data\n",
    "    current_sum += pca.explained_variance_[k2]\n",
    "    k2+=1\n",
    "print(k2)\n",
    "\n",
    "pca2=PCA(n_components=k2,whiten=True)\n",
    "cnn_train_data= pca2.fit_transform(train_x)\n",
    "cnn_test_data = pca2.transform(test_x)\n",
    "input_shape = (k2,)\n",
    "\n",
    "#transform y\n",
    "from sklearn.model_selection import train_test_split\n",
    "import tensorflow\n",
    "import keras\n",
    "# Convert class vectors to binary class matrices. This uses 1 hot encoding.\n",
    "num_classes = 22\n",
    "train_y_binary = keras.utils.to_categorical(train_y, num_classes)\n",
    "test_y_binary = keras.utils.to_categorical(test_y, num_classes)\n",
    "#transform x\n",
    "train_x_cnn = cnn_train_data.reshape(2000, k2,1)\n",
    "test_x_cnn =  cnn_test_data.reshape(500, k2,1)\n",
    "#normalize x\n",
    "train_x_cnn = train_x_cnn - np.mean(train_x_cnn, axis=0)\n",
    "train_x_cnn = train_x_cnn/np.std(train_x_cnn, axis=0)"
   ]
  },
  {
   "cell_type": "code",
   "execution_count": 31,
   "metadata": {},
   "outputs": [
    {
     "name": "stdout",
     "output_type": "stream",
     "text": [
      "Model: \"sequential_1\"\n",
      "_________________________________________________________________\n",
      "Layer (type)                 Output Shape              Param #   \n",
      "=================================================================\n",
      "conv1d_1 (Conv1D)            (None, 36, 64)            256       \n",
      "_________________________________________________________________\n",
      "dropout_1 (Dropout)          (None, 36, 64)            0         \n",
      "_________________________________________________________________\n",
      "conv1d_2 (Conv1D)            (None, 34, 64)            12352     \n",
      "_________________________________________________________________\n",
      "dropout_2 (Dropout)          (None, 34, 64)            0         \n",
      "_________________________________________________________________\n",
      "conv1d_3 (Conv1D)            (None, 32, 64)            12352     \n",
      "_________________________________________________________________\n",
      "dropout_3 (Dropout)          (None, 32, 64)            0         \n",
      "_________________________________________________________________\n",
      "flatten_1 (Flatten)          (None, 2048)              0         \n",
      "_________________________________________________________________\n",
      "dense_1 (Dense)              (None, 100)               204900    \n",
      "_________________________________________________________________\n",
      "dropout_4 (Dropout)          (None, 100)               0         \n",
      "_________________________________________________________________\n",
      "dense_2 (Dense)              (None, 22)                2222      \n",
      "=================================================================\n",
      "Total params: 232,082\n",
      "Trainable params: 232,082\n",
      "Non-trainable params: 0\n",
      "_________________________________________________________________\n"
     ]
    }
   ],
   "source": [
    "from datetime import datetime\n",
    "#construct cnn\n",
    "start=datetime.now()\n",
    "from keras.models import Sequential\n",
    "#from __future__ import print_function\n",
    "import tensorflow\n",
    "import keras\n",
    "from keras.models import Sequential\n",
    "from keras.layers import Dense, Flatten, Conv1D,Dropout\n",
    "from keras.callbacks import ModelCheckpoint\n",
    "from keras.models import model_from_json\n",
    "from keras import backend as K\n",
    "from keras import regularizers\n",
    "from keras.regularizers import l2\n",
    "\n",
    "model = Sequential()\n",
    "model.add(Conv1D(64, (3), input_shape=(k2,1), activation='relu', kernel_regularizer=l2(0.1)))\n",
    "model.add(Dropout(0.2))\n",
    "model.add(Conv1D(64, (3), input_shape=(k2,1), activation='relu')) #second layer\n",
    "model.add(Dropout(0.2))\n",
    "model.add(Conv1D(64, (3), input_shape=(k2,1), activation='relu')) #third layer\n",
    "#model.add(Conv1D(64, (3), input_shape=(k2,1), activation='relu')) #fourth layer\n",
    "model.add(Dropout(0.2))\n",
    "model.add(Flatten())\n",
    "model.add(Dense(100, activation='relu'))\n",
    "model.add(Dropout(0.2))\n",
    "model.add(Dense(num_classes, activation='softmax'))\n",
    "\n",
    "model.compile(loss=keras.losses.categorical_crossentropy,\n",
    "              optimizer=keras.optimizers.Adadelta(),\n",
    "              metrics=['accuracy'])\n",
    "\n",
    "model.summary()"
   ]
  },
  {
   "cell_type": "code",
   "execution_count": 32,
   "metadata": {
    "scrolled": true
   },
   "outputs": [
    {
     "name": "stdout",
     "output_type": "stream",
     "text": [
      "peak memory: 779.86 MiB, increment: 0.00 MiB\n",
      "Train on 2000 samples, validate on 500 samples\n",
      "Epoch 1/10\n",
      "2000/2000 [==============================] - 4s 2ms/step - loss: 3.2644 - accuracy: 0.0540 - val_loss: 3.2231 - val_accuracy: 0.1100\n",
      "Epoch 2/10\n",
      "2000/2000 [==============================] - 1s 488us/step - loss: 3.1550 - accuracy: 0.1250 - val_loss: 3.0502 - val_accuracy: 0.1920\n",
      "Epoch 3/10\n",
      "2000/2000 [==============================] - 1s 505us/step - loss: 2.8901 - accuracy: 0.2065 - val_loss: 2.7033 - val_accuracy: 0.2520\n",
      "Epoch 4/10\n",
      "2000/2000 [==============================] - 1s 505us/step - loss: 2.5199 - accuracy: 0.2820 - val_loss: 2.5053 - val_accuracy: 0.2880\n",
      "Epoch 5/10\n",
      "2000/2000 [==============================] - 1s 552us/step - loss: 2.2836 - accuracy: 0.3410 - val_loss: 2.2341 - val_accuracy: 0.3400\n",
      "Epoch 6/10\n",
      "2000/2000 [==============================] - 1s 646us/step - loss: 2.0406 - accuracy: 0.4085 - val_loss: 2.0732 - val_accuracy: 0.3860\n",
      "Epoch 7/10\n",
      "2000/2000 [==============================] - 1s 576us/step - loss: 1.8986 - accuracy: 0.4370 - val_loss: 1.8990 - val_accuracy: 0.4380\n",
      "Epoch 8/10\n",
      "2000/2000 [==============================] - 1s 500us/step - loss: 1.7635 - accuracy: 0.4670 - val_loss: 1.8633 - val_accuracy: 0.4400\n",
      "Epoch 9/10\n",
      "2000/2000 [==============================] - 1s 514us/step - loss: 1.6533 - accuracy: 0.4985 - val_loss: 1.7959 - val_accuracy: 0.4320\n",
      "Epoch 10/10\n",
      "2000/2000 [==============================] - 1s 629us/step - loss: 1.5816 - accuracy: 0.5290 - val_loss: 1.8257 - val_accuracy: 0.4520\n",
      "total time: 0:01:10.683212\n"
     ]
    }
   ],
   "source": [
    "%memit\n",
    "batch_size = 200\n",
    "epochs = 10\n",
    "model.fit(train_x_cnn, train_y_binary,\n",
    "          batch_size=batch_size,\n",
    "          epochs=epochs,\n",
    "          verbose=1,\n",
    "          validation_data=(test_x_cnn, test_y_binary))\n",
    "print('total time:',datetime.now()-start)"
   ]
  },
  {
   "cell_type": "code",
   "execution_count": null,
   "metadata": {},
   "outputs": [],
   "source": []
  }
 ],
 "metadata": {
  "kernelspec": {
   "display_name": "Python 3",
   "language": "python",
   "name": "python3"
  },
  "language_info": {
   "codemirror_mode": {
    "name": "ipython",
    "version": 3
   },
   "file_extension": ".py",
   "mimetype": "text/x-python",
   "name": "python",
   "nbconvert_exporter": "python",
   "pygments_lexer": "ipython3",
   "version": "3.7.4"
  }
 },
 "nbformat": 4,
 "nbformat_minor": 2
}
